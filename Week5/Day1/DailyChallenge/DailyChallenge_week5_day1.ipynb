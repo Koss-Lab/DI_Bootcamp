{
  "nbformat": 4,
  "nbformat_minor": 0,
  "metadata": {
    "colab": {
      "provenance": []
    },
    "kernelspec": {
      "name": "python3",
      "display_name": "Python 3"
    },
    "language_info": {
      "name": "python"
    }
  },
  "cells": [
    {
      "cell_type": "markdown",
      "source": [
        "Real-world Data Analysis Scenarios\n",
        "Case Study: NOAA Weather Data and Business Decision-Making"
      ],
      "metadata": {
        "id": "PIa7xV0KWt_H"
      }
    },
    {
      "cell_type": "markdown",
      "source": [
        "https://www.washingtonpost.com/climate-environment/2025/05/23/government-weather-data-noaa-apps-retailers/?utm_source=chatgpt.com"
      ],
      "metadata": {
        "id": "F79U9aZJWWHC"
      }
    },
    {
      "cell_type": "markdown",
      "source": [
        "1. Context and Story\n",
        "\n",
        "In 2024, multiple U.S. companies (including Honda, Conagra Brands, and UPS) partnered with the National Oceanic and Atmospheric Administration (NOAA) to integrate advanced climate and weather data into their decision-making. NOAA provided access to real-time datasets on extreme weather, long-term climate models, and predictive analytics for storms, floods, and temperature variations.\n",
        "\n",
        "This collaboration was reported in The Wall Street Journal and highlighted as a turning point where companies moved from reactive crisis management to proactive planning using data analysis."
      ],
      "metadata": {
        "id": "nm97l-7hWY79"
      }
    },
    {
      "cell_type": "markdown",
      "source": [
        "2. Role of Data Analysis\n",
        "\n",
        "The role of data analysis was central:\n",
        "\n",
        "Data Sources: NOAA climate models, satellite data, storm tracking, and temperature forecasts.\n",
        "\n",
        "Methods: Predictive modeling, time-series analysis, and scenario simulations.\n",
        "\n",
        "Applications:\n",
        "\n",
        "Honda adjusted its global supply chain routes to minimize delays caused by hurricanes.\n",
        "\n",
        "Conagra Brands modified agricultural sourcing strategies based on heat and drought forecasts.\n",
        "\n",
        "UPS optimized delivery logistics to anticipate severe storms and reroute packages."
      ],
      "metadata": {
        "id": "GPbCW1mRW1Y2"
      }
    },
    {
      "cell_type": "markdown",
      "source": [
        "3. Impact of Data Analysis\n",
        "\n",
        "Without this analytical approach, these companies would have faced:\n",
        "\n",
        "Higher operational costs from disrupted supply chains.\n",
        "\n",
        "Delays in logistics and deliveries.\n",
        "\n",
        "Increased financial risk due to unpredictable climate events.\n",
        "\n",
        "Thanks to data analysis:\n",
        "\n",
        "Honda reduced shipment delays by preemptively rerouting sea cargo.\n",
        "\n",
        "Conagra avoided sourcing from regions forecasted to have poor harvests, saving millions in raw material costs.\n",
        "\n",
        "UPS improved delivery reliability, reinforcing customer trust and reducing compensation costs."
      ],
      "metadata": {
        "id": "t4CmJ84kW4t2"
      }
    },
    {
      "cell_type": "markdown",
      "source": [
        "4. Significance\n",
        "\n",
        "This case shows how data analysis:\n",
        "\n",
        "Transformed raw weather data into actionable insights.\n",
        "\n",
        "Allowed companies to predict and mitigate risks instead of reacting to disasters.\n",
        "\n",
        "Demonstrated that data is not just a support tool, but a strategic driver of competitive advantage."
      ],
      "metadata": {
        "id": "9kD1wYgrXFpL"
      }
    },
    {
      "cell_type": "markdown",
      "source": [
        "5. Conclusion\n",
        "\n",
        "Data analysis was the key factor in helping companies adapt to climate uncertainty. It enabled proactive decision-making, reduced operational risk, and increased resilience in highly competitive markets.\n",
        "\n",
        "Without data analysis, the outcomes would have been reactive, costly, and less efficient. With data analysis, the same challenges became opportunities to strengthen strategy and performance."
      ],
      "metadata": {
        "id": "vkIW1C6bXCuM"
      }
    }
  ]
}